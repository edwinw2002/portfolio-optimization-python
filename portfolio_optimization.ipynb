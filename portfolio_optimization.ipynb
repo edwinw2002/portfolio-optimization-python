{
 "cells": [
  {
   "cell_type": "markdown",
   "id": "04dd61e7",
   "metadata": {},
   "source": [
    "# Portfolio Optimization using Modern Portfolio Theory"
   ]
  },
  {
   "cell_type": "markdown",
   "id": "e5f5bf0a",
   "metadata": {},
   "source": [
    "### 📊 Theoretical Overview\n",
    "\n",
    "Modern Portfolio Theory (MPT) describes how to construct portfolios that maximize return for a given level of risk.  \n",
    "It relies on two key inputs:  \n",
    "- **Expected returns (μ)** — estimated from historical or forecasted data  \n",
    "- **Covariance matrix (Σ)** — measures how assets move together  \n",
    "\n",
    "Given portfolio weights $w$:\n",
    "\n",
    "$$\n",
    "E[R_p] = w^\\top \\mu, \\quad \n",
    "\\sigma_p = \\sqrt{w^\\top \\Sigma w}\n",
    "$$\n",
    "\n",
    "The **efficient frontier** represents the set of portfolios with the best possible risk–return trade-offs.  \n",
    "Common optimization goals include:\n",
    "\n",
    "- **Global Minimum Variance (GMV):** minimize $w^\\top \\Sigma w$  \n",
    "- **Max Sharpe (Tangency Portfolio):** maximize $\\frac{w^\\top \\mu - r_f}{\\sqrt{w^\\top \\Sigma w}}$\n",
    "\n",
    "In this notebook, we’ll estimate returns and covariances, solve for optimal weights, and visualize the **efficient frontier**, **GMV**, and **tangency portfolio**."
   ]
  },
  {
   "cell_type": "markdown",
   "id": "008c7d84",
   "metadata": {},
   "source": [
    "### Import Required Libraries"
   ]
  },
  {
   "cell_type": "code",
   "execution_count": 58,
   "id": "3c7e54c7",
   "metadata": {},
   "outputs": [],
   "source": [
    "import yfinance as yf\n",
    "import pandas as pd \n",
    "from datetime import datetime, timedelta\n",
    "import numpy as np\n",
    "from scipy.optimize import minimize"
   ]
  },
  {
   "cell_type": "markdown",
   "id": "548b0a4b",
   "metadata": {},
   "source": [
    "## Section 1: Define Tickers and Time Range"
   ]
  },
  {
   "cell_type": "code",
   "execution_count": 59,
   "id": "b229c7ab",
   "metadata": {},
   "outputs": [
    {
     "name": "stdout",
     "output_type": "stream",
     "text": [
      "2020-10-17 13:26:59.511741 2025-10-16 13:26:59.511741\n"
     ]
    }
   ],
   "source": [
    "# Define Tickers and Time Range\n",
    "tickers = ['SPY','QQQ','VXUS','GLD','BND']\n",
    "end_date = datetime.today()\n",
    "start_date = end_date - timedelta(days=365*5)  # Last 5 years\n",
    "print(start_date, end_date)"
   ]
  },
  {
   "cell_type": "markdown",
   "id": "d8cddacf",
   "metadata": {},
   "source": [
    "## Section 2: Donwload Adjusted Close Prices"
   ]
  },
  {
   "cell_type": "code",
   "execution_count": 60,
   "id": "8ddfa920",
   "metadata": {},
   "outputs": [
    {
     "name": "stderr",
     "output_type": "stream",
     "text": [
      "[*********************100%***********************]  1 of 1 completed\n",
      "[*********************100%***********************]  1 of 1 completed\n",
      "[*********************100%***********************]  1 of 1 completed\n",
      "[*********************100%***********************]  1 of 1 completed\n",
      "[*********************100%***********************]  1 of 1 completed\n"
     ]
    },
    {
     "data": {
      "text/html": [
       "<div>\n",
       "<style scoped>\n",
       "    .dataframe tbody tr th:only-of-type {\n",
       "        vertical-align: middle;\n",
       "    }\n",
       "\n",
       "    .dataframe tbody tr th {\n",
       "        vertical-align: top;\n",
       "    }\n",
       "\n",
       "    .dataframe thead th {\n",
       "        text-align: right;\n",
       "    }\n",
       "</style>\n",
       "<table border=\"1\" class=\"dataframe\">\n",
       "  <thead>\n",
       "    <tr style=\"text-align: right;\">\n",
       "      <th></th>\n",
       "      <th>SPY</th>\n",
       "      <th>QQQ</th>\n",
       "      <th>VXUS</th>\n",
       "      <th>GLD</th>\n",
       "      <th>BND</th>\n",
       "    </tr>\n",
       "    <tr>\n",
       "      <th>Date</th>\n",
       "      <th></th>\n",
       "      <th></th>\n",
       "      <th></th>\n",
       "      <th></th>\n",
       "      <th></th>\n",
       "    </tr>\n",
       "  </thead>\n",
       "  <tbody>\n",
       "    <tr>\n",
       "      <th>2020-10-19</th>\n",
       "      <td>318.842468</td>\n",
       "      <td>275.263397</td>\n",
       "      <td>45.571518</td>\n",
       "      <td>178.389999</td>\n",
       "      <td>75.798660</td>\n",
       "    </tr>\n",
       "    <tr>\n",
       "      <th>2020-10-20</th>\n",
       "      <td>320.119720</td>\n",
       "      <td>275.855072</td>\n",
       "      <td>45.914745</td>\n",
       "      <td>179.250000</td>\n",
       "      <td>75.669487</td>\n",
       "    </tr>\n",
       "    <tr>\n",
       "      <th>2020-10-21</th>\n",
       "      <td>319.513763</td>\n",
       "      <td>275.641693</td>\n",
       "      <td>45.786037</td>\n",
       "      <td>180.600006</td>\n",
       "      <td>75.583305</td>\n",
       "    </tr>\n",
       "    <tr>\n",
       "      <th>2020-10-22</th>\n",
       "      <td>321.266357</td>\n",
       "      <td>275.631989</td>\n",
       "      <td>45.794617</td>\n",
       "      <td>178.830002</td>\n",
       "      <td>75.454102</td>\n",
       "    </tr>\n",
       "    <tr>\n",
       "      <th>2020-10-23</th>\n",
       "      <td>322.357147</td>\n",
       "      <td>276.175110</td>\n",
       "      <td>46.052029</td>\n",
       "      <td>178.639999</td>\n",
       "      <td>75.548859</td>\n",
       "    </tr>\n",
       "  </tbody>\n",
       "</table>\n",
       "</div>"
      ],
      "text/plain": [
       "                   SPY         QQQ       VXUS         GLD        BND\n",
       "Date                                                                \n",
       "2020-10-19  318.842468  275.263397  45.571518  178.389999  75.798660\n",
       "2020-10-20  320.119720  275.855072  45.914745  179.250000  75.669487\n",
       "2020-10-21  319.513763  275.641693  45.786037  180.600006  75.583305\n",
       "2020-10-22  321.266357  275.631989  45.794617  178.830002  75.454102\n",
       "2020-10-23  322.357147  276.175110  46.052029  178.639999  75.548859"
      ]
     },
     "execution_count": 60,
     "metadata": {},
     "output_type": "execute_result"
    }
   ],
   "source": [
    "# Create an empty DataFrame to hold adjusted close prices\n",
    "adj_close_df = pd.DataFrame()\n",
    "\n",
    "# Download adjusted close prices for each ticker\n",
    "for ticker in tickers:\n",
    "    data = yf.download(ticker, start=start_date, end=end_date, auto_adjust=True)\n",
    "    adj_close_df[ticker] = data['Close']\n",
    "\n",
    "# Display the first few rows of the DataFrame\n",
    "adj_close_df.head()"
   ]
  },
  {
   "cell_type": "markdown",
   "id": "88c96ead",
   "metadata": {},
   "source": [
    "## 📈 Section 3: Calculate Lognormal Returns\n",
    "\n",
    "We use **logarithmic (log) returns** instead of simple percentage returns because they are *time-additive* and better suited for portfolio optimization and statistical analysis.\n",
    "\n",
    "For each asset:\n",
    "\n",
    "$$\n",
    "r_t = \\ln\\left(\\frac{P_t}{P_{t-1}}\\right)\n",
    "$$\n",
    "\n",
    "#### 🔍 Variable Definitions\n",
    "- **$r_t$** — log return at time *t*  \n",
    "- **$P_t$** — adjusted closing price on day *t*  \n",
    "- **$P_{t-1}$** — adjusted closing price on the previous trading day  \n",
    "- **$\\ln$** — natural logarithm (base *e*)\n",
    "\n",
    "#### 💡 Why Log Returns?\n",
    "- They are **time-additive**, meaning multi-period returns can be summed:  \n",
    "  $R_{1\\rightarrow T} = r_1 + r_2 + \\dots + r_T$\n",
    "- They better approximate **normality** for statistical modeling.  \n",
    "- They handle **large price changes** symmetrically (e.g., +50% and −50% are not equal in simple returns).\n",
    "\n",
    "In this section, we’ll compute daily log returns for each asset to prepare for portfolio risk and return analysis."
   ]
  },
  {
   "cell_type": "code",
   "execution_count": 61,
   "id": "b85b2e29",
   "metadata": {},
   "outputs": [],
   "source": [
    "#Calculate Daily Lognormal Returns\n",
    "log_returns = np.log(adj_close_df / adj_close_df.shift(1)).dropna()\n"
   ]
  },
  {
   "cell_type": "markdown",
   "id": "a8e99992",
   "metadata": {},
   "source": [
    "## Section 4: Calculate Covariance Matrix\n",
    "The **covariance matrix** measures how asset returns move relative to each other.  \n",
    "It’s a key input in Modern Portfolio Theory, as it quantifies **diversification** and **overall portfolio risk**.\n",
    "\n",
    "- High covariance → assets move more closely together  \n",
    "- Low covariance → assets move more independently\n",
    "\n",
    "In this section, we’ll compute the covariance matrix of log returns to model portfolio volatility and optimize risk-adjusted returns."
   ]
  },
  {
   "cell_type": "code",
   "execution_count": 62,
   "id": "3ea43e99",
   "metadata": {},
   "outputs": [
    {
     "name": "stdout",
     "output_type": "stream",
     "text": [
      "           SPY       QQQ      VXUS       GLD       BND\n",
      "SPY   0.029662  0.036906  0.022000  0.003219  0.001915\n",
      "QQQ   0.036906  0.051918  0.026629  0.004154  0.002701\n",
      "VXUS  0.022000  0.026629  0.024967  0.007342  0.002113\n",
      "GLD   0.003219  0.004154  0.007342  0.022980  0.003149\n",
      "BND   0.001915  0.002701  0.002113  0.003149  0.003610\n"
     ]
    }
   ],
   "source": [
    "cov_matrix = log_returns.cov()*252 # Annualized covariance matrix\n",
    "print(cov_matrix)"
   ]
  },
  {
   "cell_type": "markdown",
   "id": "a6005a6b",
   "metadata": {},
   "source": [
    "## Section 5: Define Portfolio Performance Metrics"
   ]
  },
  {
   "cell_type": "code",
   "execution_count": 63,
   "id": "348dcfe7",
   "metadata": {},
   "outputs": [],
   "source": [
    "#portfolio standard deviation\n",
    "def standard_deviation(weight, cov_matrix):\n",
    "    variance = weight.T @ cov_matrix @ weight\n",
    "    return np.sqrt(variance)\n",
    "\n",
    "#Calculate expected portfolio return\n",
    "def expected_return(weight, log_returns):\n",
    "    return np.sum(log_returns.mean() * weight) * 252\n",
    "\n",
    "#Calculate Sharpe Ratio\n",
    "def sharpe_ratio(weight, log_returns, cov_matrix, risk_free_rate=0.03):\n",
    "    return(expected_return(weight, log_returns)-risk_free_rate) / standard_deviation(weight, cov_matrix)"
   ]
  },
  {
   "cell_type": "markdown",
   "id": "22e61130",
   "metadata": {},
   "source": [
    "## Section 6: Portfolio Optimization"
   ]
  },
  {
   "cell_type": "code",
   "execution_count": 64,
   "id": "eb1b1965",
   "metadata": {},
   "outputs": [
    {
     "name": "stdout",
     "output_type": "stream",
     "text": [
      "Initial Weights: [0.2 0.2 0.2 0.2 0.2]\n"
     ]
    }
   ],
   "source": [
    "# define negative sharpe ratio for minimization\n",
    "def neg_sharpe_ratio(weight, log_returns, cov_matrix, risk_free_rate=0.03):\n",
    "    return -sharpe_ratio(weight, log_returns, cov_matrix, risk_free_rate)\n",
    "\n",
    "# Set up constraints and bounds\n",
    "constraints = {'type': 'eq', 'fun': lambda x: np.sum(x) - 1}\n",
    "bounds = [(0, 0.3) for _ in range(len(tickers))]  # No short selling, max 30% in any asset\n",
    "\n",
    "# Initial weight (equal distribution)\n",
    "initial_weight = np.array(len(tickers)*[1./len(tickers)])\n",
    "print(\"Initial Weights:\", initial_weight)"
   ]
  },
  {
   "cell_type": "code",
   "execution_count": 65,
   "id": "0874194b",
   "metadata": {},
   "outputs": [],
   "source": [
    "#Optimize weights to maximize Sharpe Ratio using SLSQP\n",
    "optimized_results = minimize(neg_sharpe_ratio, initial_weight, args=(log_returns, cov_matrix), method='SLSQP', bounds=bounds, constraints=constraints)\n",
    "optimal_weights = optimized_results.x"
   ]
  },
  {
   "cell_type": "markdown",
   "id": "c401f15c",
   "metadata": {},
   "source": [
    "## Section 7: Analyze Optimal Portfolio"
   ]
  },
  {
   "cell_type": "code",
   "execution_count": 66,
   "id": "a5efc39e",
   "metadata": {},
   "outputs": [
    {
     "name": "stdout",
     "output_type": "stream",
     "text": [
      "Optimal Weights:\n",
      "SPY: 0.3000\n",
      "QQQ: 0.2678\n",
      "VXUS: 0.1322\n",
      "GLD: 0.3000\n",
      "BND: 0.0000\n",
      "Expected Annual Return: 14.62%\n",
      "Annual Volatility: 14.24%\n",
      "Sharpe Ratio: 0.82\n"
     ]
    }
   ],
   "source": [
    "# Print each ticker's allocated weight (4 decimal places)\n",
    "print(\"Optimal Weights:\")\n",
    "for ticker, weight in zip(tickers, optimal_weights):\n",
    "    print(f\"{ticker}: {weight:.4f}\")\n",
    "\n",
    "# optimal portfolio performance\n",
    "opt_port_return = expected_return(optimal_weights, log_returns)\n",
    "opt_port_volatility = standard_deviation(optimal_weights, cov_matrix)\n",
    "opt_sharpe = sharpe_ratio(optimal_weights, log_returns, cov_matrix, risk_free_rate=0.03)\n",
    "\n",
    "print(f\"Expected Annual Return: {opt_port_return:.2%}\")\n",
    "print(f\"Annual Volatility: {opt_port_volatility:.2%}\")  \n",
    "print(f\"Sharpe Ratio: {opt_sharpe:.2f}\")"
   ]
  },
  {
   "cell_type": "code",
   "execution_count": 67,
   "id": "cb01cbb6",
   "metadata": {},
   "outputs": [
    {
     "data": {
      "image/png": "[encoded data removed]",
      "text/plain": [
       "<Figure size 700x700 with 1 Axes>"
      ]
     },
     "metadata": {},
     "output_type": "display_data"
    }
   ],
   "source": [
    "import matplotlib.pyplot as plt\n",
    "\n",
    "# === Pie Chart for Optimal Portfolio Weights ===\n",
    "plt.figure(figsize=(7, 7))\n",
    "\n",
    "# Create the pie chart\n",
    "plt.pie(\n",
    "    optimal_weights,              # slice sizes\n",
    "    labels=tickers,               # asset labels\n",
    "    autopct='%1.1f%%',            # show percentages\n",
    "    startangle=90,                # start from top\n",
    "    explode=[0.03]*len(tickers),  # slightly separate each slice\n",
    "    shadow=True                   # add depth effect\n",
    ")\n",
    "\n",
    "plt.title('Optimal Portfolio Allocation')\n",
    "plt.show()"
   ]
  }
 ],
 "metadata": {
  "kernelspec": {
   "display_name": "Python 3",
   "language": "python",
   "name": "python3"
  },
  "language_info": {
   "codemirror_mode": {
    "name": "ipython",
    "version": 3
   },
   "file_extension": ".py",
   "mimetype": "text/x-python",
   "name": "python",
   "nbconvert_exporter": "python",
   "pygments_lexer": "ipython3",
   "version": "3.12.0"
  }
 },
 "nbformat": 4,
 "nbformat_minor": 5
}
